{
 "cells": [
  {
   "cell_type": "code",
   "execution_count": 11,
   "id": "a4813664-d9ba-4e07-aaf6-b001c14a4a3b",
   "metadata": {},
   "outputs": [
    {
     "name": "stdout",
     "output_type": "stream",
     "text": [
      "True\n"
     ]
    }
   ],
   "source": [
    "def panlindrom(user_string):\n",
    "    reverse_string = \"\"\n",
    "    user_list = []\n",
    "    for item in user_string:\n",
    "        user_list.append(item)\n",
    "    # print(f\"original list: {user_list}\")\n",
    "    user_list.reverse()\n",
    "    # print(f\"rev original list: {user_list}\")\n",
    "    for item in user_list:\n",
    "        reverse_string+=item\n",
    "    # print(f\"reverse_string: {reverse_string}\")\n",
    "    if reverse_string == user_string:\n",
    "        return True\n",
    "    return False\n",
    "\n",
    "\n",
    "print(panlindrom(\"malayalam\"))\n",
    "\n",
    "\n"
   ]
  },
  {
   "cell_type": "code",
   "execution_count": 108,
   "id": "98d6a117-c367-4b35-8ac8-073886dab07e",
   "metadata": {},
   "outputs": [
    {
     "ename": "NameError",
     "evalue": "name 'unique' is not defined",
     "output_type": "error",
     "traceback": [
      "\u001b[0;31m---------------------------------------------------------------------------\u001b[0m",
      "\u001b[0;31mNameError\u001b[0m                                 Traceback (most recent call last)",
      "Cell \u001b[0;32mIn[108], line 16\u001b[0m\n\u001b[1;32m     12\u001b[0m                 prime_numbers\u001b[38;5;241m.\u001b[39mappend(num)\n\u001b[1;32m     13\u001b[0m     \u001b[38;5;28;01mreturn\u001b[39;00m unique(prime_numbers)\n\u001b[0;32m---> 16\u001b[0m result \u001b[38;5;241m=\u001b[39m \u001b[43mprime\u001b[49m\u001b[43m(\u001b[49m\u001b[43m[\u001b[49m\u001b[38;5;241;43m1\u001b[39;49m\u001b[43m,\u001b[49m\u001b[38;5;241;43m2\u001b[39;49m\u001b[43m,\u001b[49m\u001b[38;5;241;43m3\u001b[39;49m\u001b[43m,\u001b[49m\u001b[38;5;241;43m4\u001b[39;49m\u001b[43m,\u001b[49m\u001b[38;5;241;43m5\u001b[39;49m\u001b[43m,\u001b[49m\u001b[38;5;241;43m6\u001b[39;49m\u001b[43m,\u001b[49m\u001b[38;5;241;43m7\u001b[39;49m\u001b[43m,\u001b[49m\u001b[38;5;241;43m8\u001b[39;49m\u001b[43m,\u001b[49m\u001b[38;5;241;43m9\u001b[39;49m\u001b[43m,\u001b[49m\u001b[38;5;241;43m10\u001b[39;49m\u001b[43m]\u001b[49m\u001b[43m)\u001b[49m\n\u001b[1;32m     17\u001b[0m \u001b[38;5;28mprint\u001b[39m(result)\n",
      "Cell \u001b[0;32mIn[108], line 13\u001b[0m, in \u001b[0;36mprime\u001b[0;34m(num_list)\u001b[0m\n\u001b[1;32m     11\u001b[0m         \u001b[38;5;28;01mif\u001b[39;00m (num \u001b[38;5;241m/\u001b[39m pre_num) \u001b[38;5;241m>\u001b[39m \u001b[38;5;241m1\u001b[39m \u001b[38;5;129;01mand\u001b[39;00m (num \u001b[38;5;241m%\u001b[39m \u001b[38;5;241m2\u001b[39m) \u001b[38;5;241m==\u001b[39m \u001b[38;5;241m1\u001b[39m:\n\u001b[1;32m     12\u001b[0m             prime_numbers\u001b[38;5;241m.\u001b[39mappend(num)\n\u001b[0;32m---> 13\u001b[0m \u001b[38;5;28;01mreturn\u001b[39;00m \u001b[43munique\u001b[49m(prime_numbers)\n",
      "\u001b[0;31mNameError\u001b[0m: name 'unique' is not defined"
     ]
    }
   ],
   "source": [
    "def prime(num_list):\n",
    "    prime_numbers = []\n",
    "    for index, num in enumerate(num_list):\n",
    "        if index == 0:\n",
    "            continue\n",
    "        previous_numbers = [x for x in num_list[0:index]]\n",
    "        # print(previous_numbers)\n",
    "        for pre_num in previous_numbers:\n",
    "            if num == 2:\n",
    "                prime_numbers.append(num)\n",
    "            if (num / pre_num) > 1 and (num % 2) == 1:\n",
    "                prime_numbers.append(num)\n",
    "    return unique(prime_numbers)\n",
    "                \n",
    "\n",
    "result = prime([1,2,3,4,5,6,7,8,9,10])\n",
    "print(result)"
   ]
  },
  {
   "cell_type": "code",
   "execution_count": 92,
   "id": "190fd017-0c77-4e92-82d7-d3719a78d365",
   "metadata": {},
   "outputs": [
    {
     "data": {
      "text/plain": [
       "1.3333333333333333"
      ]
     },
     "execution_count": 92,
     "metadata": {},
     "output_type": "execute_result"
    }
   ],
   "source": [
    "4/3"
   ]
  },
  {
   "cell_type": "code",
   "execution_count": 85,
   "id": "39c0365b-ca07-40bd-9e6a-b96b6f703b78",
   "metadata": {},
   "outputs": [
    {
     "ename": "NameError",
     "evalue": "name 'num' is not defined",
     "output_type": "error",
     "traceback": [
      "\u001b[0;31m---------------------------------------------------------------------------\u001b[0m",
      "\u001b[0;31mNameError\u001b[0m                                 Traceback (most recent call last)",
      "Cell \u001b[0;32mIn[85], line 3\u001b[0m\n\u001b[1;32m      1\u001b[0m prime_numbers \u001b[38;5;241m=\u001b[39m []\n\u001b[1;32m      2\u001b[0m \u001b[38;5;28;01mif\u001b[39;00m (\u001b[38;5;241m3\u001b[39m \u001b[38;5;241m%\u001b[39m \u001b[38;5;241m2\u001b[39m) \u001b[38;5;241m==\u001b[39m \u001b[38;5;241m1\u001b[39m:\n\u001b[0;32m----> 3\u001b[0m     prime_numbers\u001b[38;5;241m.\u001b[39mappend(\u001b[43mnum\u001b[49m)\n\u001b[1;32m      4\u001b[0m \u001b[38;5;28mprint\u001b[39m(prime_numbers)\n",
      "\u001b[0;31mNameError\u001b[0m: name 'num' is not defined"
     ]
    }
   ],
   "source": [
    "prime_numbers = []\n",
    "if (3 % 2) == 1:\n",
    "    prime_numbers.append(num)\n",
    "print(prime_numbers)"
   ]
  },
  {
   "cell_type": "code",
   "execution_count": 102,
   "id": "518e515f-3a19-430b-89fa-a36f6ca60c32",
   "metadata": {},
   "outputs": [
    {
     "name": "stdout",
     "output_type": "stream",
     "text": [
      "[1, 3, 5, 7, 9]\n"
     ]
    }
   ],
   "source": [
    "myfilter = list(filter(lambda x: x%2==1 and x, [1,2,3,4,5,6,7,8,9,10]))\n",
    "print(myfilter)"
   ]
  },
  {
   "cell_type": "code",
   "execution_count": 116,
   "id": "aee26877-8491-457f-b9d8-c2b36a274968",
   "metadata": {},
   "outputs": [
    {
     "name": "stdout",
     "output_type": "stream",
     "text": [
      "Coding-6\n",
      "on-2\n",
      "CodeChef-8\n",
      "Coding on CodeChef-18\n"
     ]
    }
   ],
   "source": [
    "# cook your dish here\n",
    "\n",
    "user_string = \"Coding on CodeChef\"\n",
    "user_list = user_string.split()\n",
    "for item in user_list:\n",
    "    print(f\"{item} - {len(item)}\")\n",
    "print(f\"{user_string} - {len(user_string)}\")\n"
   ]
  },
  {
   "cell_type": "code",
   "execution_count": 118,
   "id": "8dd26eb0-756c-46f7-8e0a-9093a0709142",
   "metadata": {},
   "outputs": [
    {
     "name": "stdout",
     "output_type": "stream",
     "text": [
      "nohtyP evol I\n"
     ]
    }
   ],
   "source": [
    "user_string = \"I love Python\"\n",
    "print(user_string[::-1])"
   ]
  },
  {
   "cell_type": "code",
   "execution_count": 124,
   "id": "e3166bb4-c5f1-4488-9e18-2d75a1a1ffea",
   "metadata": {},
   "outputs": [
    {
     "name": "stdout",
     "output_type": "stream",
     "text": [
      "[6, 5, 4, 3, 2, 1]\n"
     ]
    }
   ],
   "source": [
    "mylist = [1,2,3,4,5,6]\n",
    "mylist = mylist[::-1]\n",
    "print(mylist)"
   ]
  },
  {
   "cell_type": "code",
   "execution_count": 128,
   "id": "02b0cab3-72ef-4044-b7e6-4a4f2b498b77",
   "metadata": {},
   "outputs": [
    {
     "name": "stdin",
     "output_type": "stream",
     "text": [
      " a b\n"
     ]
    },
    {
     "name": "stdout",
     "output_type": "stream",
     "text": [
      "195\n"
     ]
    }
   ],
   "source": [
    "first, second = input().split()\n",
    "print((ord(first) + ord(second)))"
   ]
  },
  {
   "cell_type": "code",
   "execution_count": 130,
   "id": "6ef4ee56-e65b-4617-91fb-ebc9d60056f4",
   "metadata": {},
   "outputs": [
    {
     "name": "stdin",
     "output_type": "stream",
     "text": [
      " 5\n",
      " 5\n"
     ]
    },
    {
     "name": "stdout",
     "output_type": "stream",
     "text": [
      "1.0\n"
     ]
    }
   ],
   "source": [
    "one = int(input())\n",
    "two = int(input())\n",
    "print(one / two)\n"
   ]
  },
  {
   "cell_type": "code",
   "execution_count": 153,
   "id": "8c491bea-ef72-4edf-bcef-425c19f486b0",
   "metadata": {},
   "outputs": [
    {
     "name": "stdin",
     "output_type": "stream",
     "text": [
      " -1\n"
     ]
    },
    {
     "name": "stdout",
     "output_type": "stream",
     "text": [
      "Print a correct number...\n"
     ]
    },
    {
     "name": "stdin",
     "output_type": "stream",
     "text": [
      " 234\n"
     ]
    },
    {
     "name": "stdout",
     "output_type": "stream",
     "text": [
      "234\n"
     ]
    }
   ],
   "source": [
    "# cook your dish here\n",
    "while True:\n",
    "    num = int(input())\n",
    "    if 0 <= num <= 10**5:\n",
    "        print(num)\n",
    "        break\n",
    "    else:\n",
    "        print(\"Print a correct number...\")"
   ]
  },
  {
   "cell_type": "code",
   "execution_count": 155,
   "id": "d652b6d5-2a37-441a-b903-b29eb9050b8b",
   "metadata": {},
   "outputs": [
    {
     "name": "stdin",
     "output_type": "stream",
     "text": [
      " 3 7\n"
     ]
    },
    {
     "name": "stdout",
     "output_type": "stream",
     "text": [
      "21\n"
     ]
    }
   ],
   "source": [
    "x, y = map(int, input().split())\n",
    "\n",
    "print(x*y)\n"
   ]
  },
  {
   "cell_type": "code",
   "execution_count": null,
   "id": "e6adfab5-9c9a-4571-8691-656518690431",
   "metadata": {},
   "outputs": [],
   "source": []
  }
 ],
 "metadata": {
  "kernelspec": {
   "display_name": "Python 3 (ipykernel)",
   "language": "python",
   "name": "python3"
  },
  "language_info": {
   "codemirror_mode": {
    "name": "ipython",
    "version": 3
   },
   "file_extension": ".py",
   "mimetype": "text/x-python",
   "name": "python",
   "nbconvert_exporter": "python",
   "pygments_lexer": "ipython3",
   "version": "3.13.5"
  }
 },
 "nbformat": 4,
 "nbformat_minor": 5
}
