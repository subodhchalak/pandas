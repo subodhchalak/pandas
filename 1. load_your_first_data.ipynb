{
 "cells": [
  {
   "cell_type": "code",
   "execution_count": 2,
   "id": "1eb0cd90-188e-432b-9b6b-b62bc735cb55",
   "metadata": {},
   "outputs": [
    {
     "name": "stdout",
     "output_type": "stream",
     "text": [
      "          country continent  year  lifeExp       pop   gdpPercap\n",
      "0     Afghanistan      Asia  1952   28.801   8425333  779.445314\n",
      "1     Afghanistan      Asia  1957   30.332   9240934  820.853030\n",
      "2     Afghanistan      Asia  1962   31.997  10267083  853.100710\n",
      "3     Afghanistan      Asia  1967   34.020  11537966  836.197138\n",
      "4     Afghanistan      Asia  1972   36.088  13079460  739.981106\n",
      "...           ...       ...   ...      ...       ...         ...\n",
      "1699     Zimbabwe    Africa  1987   62.351   9216418  706.157306\n",
      "1700     Zimbabwe    Africa  1992   60.377  10704340  693.420786\n",
      "1701     Zimbabwe    Africa  1997   46.809  11404948  792.449960\n",
      "1702     Zimbabwe    Africa  2002   39.989  11926563  672.038623\n",
      "1703     Zimbabwe    Africa  2007   43.487  12311143  469.709298\n",
      "\n",
      "[1704 rows x 6 columns]\n"
     ]
    }
   ],
   "source": [
    "# load CSV file using read_csv function\n",
    "\n",
    "import pandas as pd\n",
    "\n",
    "df = pd.read_csv(\"gapminder.tsv\", sep=\"\\t\")\n",
    "print(df)\n"
   ]
  },
  {
   "cell_type": "code",
   "execution_count": 3,
   "id": "2be13dd5-5254-4678-bc11-3288bb827c67",
   "metadata": {},
   "outputs": [
    {
     "name": "stdout",
     "output_type": "stream",
     "text": [
      "<class 'pandas.core.frame.DataFrame'>\n"
     ]
    }
   ],
   "source": [
    "# use built in type function to check data type of the object\n",
    "\n",
    "print(type(df))"
   ]
  },
  {
   "cell_type": "code",
   "execution_count": 4,
   "id": "20bed511-120f-43b5-820c-95be02140101",
   "metadata": {},
   "outputs": [
    {
     "name": "stdout",
     "output_type": "stream",
     "text": [
      "(1704, 6)\n"
     ]
    }
   ],
   "source": [
    "# dataframe has shape attribute which is the tuple of rows and columns belonging to the dataframe\n",
    "# tuple format: (rows, columns)\n",
    "print(df.shape)"
   ]
  },
  {
   "cell_type": "code",
   "execution_count": 5,
   "id": "c4c13141-04ac-4e8c-90a1-381eb0c62961",
   "metadata": {},
   "outputs": [
    {
     "name": "stdout",
     "output_type": "stream",
     "text": [
      "Index(['country', 'continent', 'year', 'lifeExp', 'pop', 'gdpPercap'], dtype='object') \n",
      "\n",
      "1 country\n",
      "2 continent\n",
      "3 year\n",
      "4 lifeExp\n",
      "5 pop\n",
      "6 gdpPercap\n"
     ]
    }
   ],
   "source": [
    "# DataFrame object has .columns attribute which provides the columns names\n",
    "print(df.columns, \"\\n\")\n",
    "\n",
    "# df.columns gives an iteratble object\n",
    "for index, column in enumerate(df.columns, 1):\n",
    "    print(index, column)"
   ]
  },
  {
   "cell_type": "code",
   "execution_count": 6,
   "id": "50081437-5235-4ec0-a5fe-1939f6d14ae9",
   "metadata": {},
   "outputs": [
    {
     "name": "stdout",
     "output_type": "stream",
     "text": [
      "country       object\n",
      "continent     object\n",
      "year           int64\n",
      "lifeExp      float64\n",
      "pop            int64\n",
      "gdpPercap    float64\n",
      "dtype: object\n"
     ]
    }
   ],
   "source": [
    "# .dtypes attribute of DataFrame give the data type of the DataFrame columns\n",
    "\n",
    "print(df.dtypes)"
   ]
  },
  {
   "cell_type": "code",
   "execution_count": 7,
   "id": "d78ae0fb-be9f-4891-ace0-041a50a46ce2",
   "metadata": {},
   "outputs": [
    {
     "name": "stdout",
     "output_type": "stream",
     "text": [
      "<class 'pandas.core.frame.DataFrame'>\n",
      "RangeIndex: 1704 entries, 0 to 1703\n",
      "Data columns (total 6 columns):\n",
      " #   Column     Non-Null Count  Dtype  \n",
      "---  ------     --------------  -----  \n",
      " 0   country    1704 non-null   object \n",
      " 1   continent  1704 non-null   object \n",
      " 2   year       1704 non-null   int64  \n",
      " 3   lifeExp    1704 non-null   float64\n",
      " 4   pop        1704 non-null   int64  \n",
      " 5   gdpPercap  1704 non-null   float64\n",
      "dtypes: float64(2), int64(2), object(2)\n",
      "memory usage: 80.0+ KB\n",
      "None\n"
     ]
    }
   ],
   "source": [
    "# to get the more information of the DataFrame, .info() method can be used\n",
    "\n",
    "print(df.info())"
   ]
  },
  {
   "cell_type": "code",
   "execution_count": 8,
   "id": "359792d0-df5d-495b-8ee9-66cb0409435d",
   "metadata": {},
   "outputs": [
    {
     "name": "stdout",
     "output_type": "stream",
     "text": [
      "       country continent  year  lifeExp       pop   gdpPercap\n",
      "0  Afghanistan      Asia  1952   28.801   8425333  779.445314\n",
      "1  Afghanistan      Asia  1957   30.332   9240934  820.853030\n",
      "2  Afghanistan      Asia  1962   31.997  10267083  853.100710\n",
      "3  Afghanistan      Asia  1967   34.020  11537966  836.197138\n",
      "4  Afghanistan      Asia  1972   36.088  13079460  739.981106\n"
     ]
    }
   ],
   "source": [
    "# .head() method of DataFrame shows the data of first five rows\n",
    "# default value of 5 rows, if we want more, we can pass integer value as a argument to .head() method\n",
    "\n",
    "print(df.head(5))"
   ]
  },
  {
   "cell_type": "code",
   "execution_count": 9,
   "id": "271a01fd-6130-43ab-9609-cf44e9437a0c",
   "metadata": {},
   "outputs": [
    {
     "name": "stdout",
     "output_type": "stream",
     "text": [
      "0    Afghanistan\n",
      "1    Afghanistan\n",
      "2    Afghanistan\n",
      "3    Afghanistan\n",
      "4    Afghanistan\n",
      "Name: country, dtype: object\n"
     ]
    }
   ],
   "source": [
    "# to get the info of the specific columns, pass the column name in the paranthesis\n",
    "# here is the example of the 'country' column\n",
    "\n",
    "print(df['country'].head())"
   ]
  },
  {
   "cell_type": "code",
   "execution_count": 10,
   "id": "cee34c9e-2272-47c8-9ce9-f67a1beb4405",
   "metadata": {},
   "outputs": [
    {
     "name": "stdout",
     "output_type": "stream",
     "text": [
      "1699    Zimbabwe\n",
      "1700    Zimbabwe\n",
      "1701    Zimbabwe\n",
      "1702    Zimbabwe\n",
      "1703    Zimbabwe\n",
      "Name: country, dtype: object\n"
     ]
    }
   ],
   "source": [
    "# to get the info of the last five rows, use .tail() method of the DataFrame object\n",
    "# similar to .head() method, .tail() also accepts integer value as argument\n",
    "\n",
    "print(df['country'].tail())"
   ]
  },
  {
   "cell_type": "code",
   "execution_count": 11,
   "id": "c08ee7d5-f88d-42e5-a2da-20dcc6f810a2",
   "metadata": {},
   "outputs": [
    {
     "name": "stdout",
     "output_type": "stream",
     "text": [
      "       country continent       pop\n",
      "0  Afghanistan      Asia   8425333\n",
      "1  Afghanistan      Asia   9240934\n",
      "2  Afghanistan      Asia  10267083\n",
      "3  Afghanistan      Asia  11537966\n",
      "4  Afghanistan      Asia  13079460\n"
     ]
    }
   ],
   "source": [
    "# if we need info of more than one column, the pass the column name in double parenthesis to the \n",
    "# DataFrame object. \n",
    "\n",
    "print(df[['country', 'continent', 'pop']].head())"
   ]
  },
  {
   "cell_type": "code",
   "execution_count": 12,
   "id": "4ef46b12-ef6a-4d05-b28b-84f1c5358855",
   "metadata": {},
   "outputs": [
    {
     "name": "stdout",
     "output_type": "stream",
     "text": [
      "        country continent       pop\n",
      "10  Afghanistan      Asia  25268405\n",
      "11  Afghanistan      Asia  31889923\n",
      "12      Albania    Europe   1282697\n",
      "13      Albania    Europe   1476505\n",
      "14      Albania    Europe   1728137\n",
      "15      Albania    Europe   1984060\n",
      "16      Albania    Europe   2263554\n",
      "17      Albania    Europe   2509048\n",
      "18      Albania    Europe   2780097\n",
      "19      Albania    Europe   3075321\n"
     ]
    }
   ],
   "source": [
    "# to get the info about the particular rows, then pass the index number as a start and end value\n",
    "# it is similar to the rangre() function. Here \n",
    "\n",
    "print(df[['country', 'continent', 'pop']][10:20])"
   ]
  },
  {
   "cell_type": "code",
   "execution_count": 13,
   "id": "dc82f148-5fcf-4016-b8c9-44941a15c80b",
   "metadata": {},
   "outputs": [
    {
     "name": "stdout",
     "output_type": "stream",
     "text": [
      "10 Afghanistan\n",
      "11 Afghanistan\n",
      "12 Albania\n",
      "13 Albania\n",
      "14 Albania\n",
      "15 Albania\n",
      "16 Albania\n",
      "17 Albania\n",
      "18 Albania\n",
      "19 Albania\n"
     ]
    }
   ],
   "source": [
    "# subset the df based on the column name\n",
    "\n",
    "country_subset = df['country']\n",
    "for index, csub in enumerate(country_subset[10:20], 10):\n",
    "    print(index, csub)"
   ]
  },
  {
   "cell_type": "code",
   "execution_count": 14,
   "id": "ca87057e-9f8b-454b-b07d-1d0029f5d5d7",
   "metadata": {},
   "outputs": [
    {
     "name": "stdout",
     "output_type": "stream",
     "text": [
      "30    Algeria\n",
      "31    Algeria\n",
      "32    Algeria\n",
      "33    Algeria\n",
      "34    Algeria\n",
      "Name: country, dtype: object\n",
      "<class 'pandas.core.series.Series'>\n"
     ]
    }
   ],
   "source": [
    "country_subset = df['country'][30:35]\n",
    "print(country_subset)\n",
    "print(type(country_subset))"
   ]
  },
  {
   "cell_type": "code",
   "execution_count": 15,
   "id": "71eec44f-bec4-469e-ad95-8be1a1b1a823",
   "metadata": {},
   "outputs": [
    {
     "name": "stdout",
     "output_type": "stream",
     "text": [
      "    country       pop\n",
      "30  Algeria  20033753\n",
      "31  Algeria  23254956\n",
      "32  Algeria  26298373\n",
      "33  Algeria  29072015\n",
      "34  Algeria  31287142\n",
      "<class 'pandas.core.frame.DataFrame'>\n"
     ]
    }
   ],
   "source": [
    "country_subset = df[['country', 'pop']][30:35]\n",
    "print(country_subset)\n",
    "print(type(country_subset))"
   ]
  },
  {
   "cell_type": "code",
   "execution_count": 16,
   "id": "c3ebe8a6-3b32-4541-acad-9aec0782d99d",
   "metadata": {},
   "outputs": [
    {
     "name": "stdout",
     "output_type": "stream",
     "text": [
      "0    Afghanistan\n",
      "1    Afghanistan\n",
      "2    Afghanistan\n",
      "3    Afghanistan\n",
      "4    Afghanistan\n",
      "Name: country, dtype: object\n"
     ]
    }
   ],
   "source": [
    "country_subset = df['country']\n",
    "print(country_subset.head())"
   ]
  },
  {
   "cell_type": "code",
   "execution_count": 17,
   "id": "b4b83948-3107-4856-abff-acc36321fb1b",
   "metadata": {},
   "outputs": [
    {
     "name": "stdout",
     "output_type": "stream",
     "text": [
      "0    Afghanistan\n",
      "1    Afghanistan\n",
      "2    Afghanistan\n",
      "3    Afghanistan\n",
      "4    Afghanistan\n",
      "5    Afghanistan\n",
      "6    Afghanistan\n",
      "7    Afghanistan\n",
      "8    Afghanistan\n",
      "9    Afghanistan\n",
      "Name: country, dtype: object\n"
     ]
    }
   ],
   "source": [
    "# fetch first 10 rows using head function\n",
    "\n",
    "country_subset = df['country']\n",
    "print(country_subset.head(10))"
   ]
  },
  {
   "cell_type": "code",
   "execution_count": 18,
   "id": "73dbf590-9119-40cc-ac4c-b5b722da83b6",
   "metadata": {},
   "outputs": [
    {
     "name": "stdout",
     "output_type": "stream",
     "text": [
      "1694    Zimbabwe\n",
      "1695    Zimbabwe\n",
      "1696    Zimbabwe\n",
      "1697    Zimbabwe\n",
      "1698    Zimbabwe\n",
      "1699    Zimbabwe\n",
      "1700    Zimbabwe\n",
      "1701    Zimbabwe\n",
      "1702    Zimbabwe\n",
      "1703    Zimbabwe\n",
      "Name: country, dtype: object\n"
     ]
    }
   ],
   "source": [
    "# fetch first 10 rows using tail function\n",
    "\n",
    "country_subset = df['country']\n",
    "print(country_subset.tail(10))"
   ]
  },
  {
   "cell_type": "code",
   "execution_count": 19,
   "id": "5c145fc3-aa1d-4fb4-9247-8916b93412e3",
   "metadata": {},
   "outputs": [
    {
     "name": "stdout",
     "output_type": "stream",
     "text": [
      "<class 'str'> \n",
      "\n",
      "<class 'pandas.core.frame.DataFrame'>\n"
     ]
    }
   ],
   "source": [
    "# When we use need single data column, we can use single pair of square brackets [], its dataype is Series\n",
    "# If use double square brackets, results gives DataFrame object\n",
    "\n",
    "print(type(df['country'][0]), \"\\n\")\n",
    "print(type(df[['country']]))"
   ]
  },
  {
   "cell_type": "code",
   "execution_count": 20,
   "id": "52691eaa-7859-4d7f-bcf5-10eddda368c1",
   "metadata": {},
   "outputs": [
    {
     "name": "stdout",
     "output_type": "stream",
     "text": [
      "Afghanistan\n",
      "Canada\n"
     ]
    }
   ],
   "source": [
    "# if data type is series, then row label can be used as a index to fetch the data of the particular row\n",
    "# row labels by default start with index 0\n",
    "\n",
    "print(df['country'][0])\n",
    "print(df['country'][240])"
   ]
  },
  {
   "cell_type": "code",
   "execution_count": 21,
   "id": "cd8f07ee-516a-414b-9fc4-009f24cefd4c",
   "metadata": {},
   "outputs": [
    {
     "name": "stdout",
     "output_type": "stream",
     "text": [
      "country      Afghanistan\n",
      "continent           Asia\n",
      "year                1952\n",
      "lifeExp           28.801\n",
      "pop              8425333\n",
      "gdpPercap     779.445314\n",
      "Name: 0, dtype: object \n",
      "\n",
      "Afghanistan\n"
     ]
    }
   ],
   "source": [
    "# subset rows by index label\n",
    "# use loc attribute to fetch the data from a particular row label\n",
    "\n",
    "print(df.loc[0], \"\\n\")\n",
    "print(df['country'].loc[0])"
   ]
  },
  {
   "cell_type": "code",
   "execution_count": 22,
   "id": "34d63a38-59d3-463c-86d0-80000e499b6a",
   "metadata": {},
   "outputs": [
    {
     "name": "stdout",
     "output_type": "stream",
     "text": [
      "0       Afghanistan\n",
      "1       Afghanistan\n",
      "2       Afghanistan\n",
      "3       Afghanistan\n",
      "4       Afghanistan\n",
      "           ...     \n",
      "1699       Zimbabwe\n",
      "1700       Zimbabwe\n",
      "1701       Zimbabwe\n",
      "1702       Zimbabwe\n",
      "1703       Zimbabwe\n",
      "Name: country, Length: 1704, dtype: object\n"
     ]
    }
   ],
   "source": [
    "# dot notation can be used to fetch the data of a single column\n",
    "# but make sure that column name does have not any spaces and not similar to other attributes \n",
    "# of the DataFrame column. Prefer square brackets notion, instead of dot notation\n",
    "\n",
    "print(df.country)"
   ]
  },
  {
   "cell_type": "code",
   "execution_count": 23,
   "id": "096828d5-8724-487a-8ecf-7dbe29be64e5",
   "metadata": {},
   "outputs": [
    {
     "name": "stdout",
     "output_type": "stream",
     "text": [
      "country      Afghanistan\n",
      "continent           Asia\n",
      "year                2002\n",
      "lifeExp           42.129\n",
      "pop             25268405\n",
      "gdpPercap     726.734055\n",
      "Name: 10, dtype: object\n"
     ]
    }
   ],
   "source": [
    "# use iloc attribute to fetch the data from a particular row index\n",
    "# result will be the same as in our case, row label and row number as same.\n",
    "# but remember row label may not always be same as row number\n",
    "\n",
    "print(df.iloc[10])"
   ]
  },
  {
   "cell_type": "code",
   "execution_count": 24,
   "id": "ebe055a0-a47e-4353-b666-8b8ebe6fc431",
   "metadata": {},
   "outputs": [
    {
     "name": "stdout",
     "output_type": "stream",
     "text": [
      "Head Subset:\n",
      "\n",
      "        country continent  year  lifeExp      pop   gdpPercap\n",
      "0  Afghanistan      Asia  1952   28.801  8425333  779.445314\n",
      "\n",
      "Head Subset Type: <class 'pandas.core.frame.DataFrame'>\n",
      "\n",
      "\n",
      "\n",
      "Loc subset: \n",
      "\n",
      "country      Afghanistan\n",
      "continent           Asia\n",
      "year                1957\n",
      "lifeExp           30.332\n",
      "pop              9240934\n",
      "gdpPercap      820.85303\n",
      "Name: 1, dtype: object\n",
      "\n",
      "Loc subset Type: <class 'pandas.core.series.Series'>\n"
     ]
    }
   ],
   "source": [
    "# check the data type of the head, tail and loc\n",
    "\n",
    "head_subset = df.head(1)\n",
    "print(\"Head Subset:\\n\\n\", head_subset)\n",
    "print(f\"\\nHead Subset Type: {type(head_subset)}\")\n",
    "print(\"\\n\\n\")\n",
    "\n",
    "loc_subset = df.loc[1]\n",
    "print(f\"Loc subset: \\n\\n{loc_subset}\")\n",
    "print(f\"\\nLoc subset Type: {type(loc_subset)}\")"
   ]
  },
  {
   "cell_type": "code",
   "execution_count": 25,
   "id": "9d7f88dd-5ea5-46de-a0f8-ede09daee714",
   "metadata": {},
   "outputs": [
    {
     "name": "stdout",
     "output_type": "stream",
     "text": [
      "Multiple rows subset:\n",
      "\n",
      "        country continent  year  lifeExp       pop    gdpPercap\n",
      "0   Afghanistan      Asia  1952   28.801   8425333   779.445314\n",
      "10  Afghanistan      Asia  2002   42.129  25268405   726.734055\n",
      "20      Albania    Europe  1992   71.581   3326498  2497.437901\n",
      "30      Algeria    Africa  1982   61.368  20033753  5745.160213\n",
      "\n",
      "\n",
      "Multiple rows subset type: <class 'pandas.core.frame.DataFrame'>\n"
     ]
    }
   ],
   "source": [
    "# subsetting multiple rows\n",
    "\n",
    "multiple_rows_subset = df.loc[[0, 10, 20, 30]]\n",
    "print(f\"Multiple rows subset:\\n\\n{multiple_rows_subset}\")\n",
    "print(f\"\\n\\nMultiple rows subset type: {type(multiple_rows_subset)}\")"
   ]
  },
  {
   "cell_type": "code",
   "execution_count": 26,
   "id": "388cee16-6db9-43c4-bbfb-21e8474a3d12",
   "metadata": {},
   "outputs": [
    {
     "name": "stdout",
     "output_type": "stream",
     "text": [
      "country        Zimbabwe\n",
      "continent        Africa\n",
      "year               2007\n",
      "lifeExp          43.487\n",
      "pop            12311143\n",
      "gdpPercap    469.709298\n",
      "Name: 1703, dtype: object\n"
     ]
    }
   ],
   "source": [
    "# use iloc to fetch the data of the last row. It works same as python list index\n",
    "print(df.iloc[-1])"
   ]
  },
  {
   "cell_type": "code",
   "execution_count": 27,
   "id": "445e3fcc-86b6-4c6b-b244-440d507b895d",
   "metadata": {},
   "outputs": [
    {
     "name": "stdout",
     "output_type": "stream",
     "text": [
      "        country       pop  year\n",
      "10  Afghanistan  25268405  2002\n",
      "11  Afghanistan  31889923  2007\n",
      "12      Albania   1282697  1952\n",
      "13      Albania   1476505  1957\n",
      "14      Albania   1728137  1962\n",
      "15      Albania   1984060  1967\n"
     ]
    }
   ],
   "source": [
    "# settings columns and fetch specific rows \n",
    "# here first index of loc is rows and the next one is the list of columns\n",
    "\n",
    "specific_columns = df.loc[10:15, ['country', 'pop', 'year']]\n",
    "print(specific_columns)"
   ]
  },
  {
   "cell_type": "code",
   "execution_count": 28,
   "id": "630fb68d-2518-4eba-a7c8-f24f56967b30",
   "metadata": {},
   "outputs": [
    {
     "name": "stdout",
     "output_type": "stream",
     "text": [
      "        country continent    gdpPercap\n",
      "10  Afghanistan      Asia   726.734055\n",
      "11  Afghanistan      Asia   974.580338\n",
      "12      Albania    Europe  1601.056136\n",
      "13      Albania    Europe  1942.284244\n",
      "14      Albania    Europe  2312.888958\n"
     ]
    }
   ],
   "source": [
    "# subset columns using iloc\n",
    "# here for columns as well, index values of the columns are used\n",
    "\n",
    "iloc_subset_columns = df.iloc[10:15, [0, 1, -1]]\n",
    "print(iloc_subset_columns)"
   ]
  },
  {
   "cell_type": "code",
   "execution_count": 29,
   "id": "4a2eaac5-8fd4-405a-a5a6-d0cae443ce43",
   "metadata": {},
   "outputs": [
    {
     "name": "stdout",
     "output_type": "stream",
     "text": [
      "          country continent  year  lifeExp       pop   gdpPercap\n",
      "0     Afghanistan      Asia  1952   28.801   8425333  779.445314\n",
      "1     Afghanistan      Asia  1957   30.332   9240934  820.853030\n",
      "2     Afghanistan      Asia  1962   31.997  10267083  853.100710\n",
      "3     Afghanistan      Asia  1967   34.020  11537966  836.197138\n",
      "4     Afghanistan      Asia  1972   36.088  13079460  739.981106\n",
      "...           ...       ...   ...      ...       ...         ...\n",
      "1699     Zimbabwe    Africa  1987   62.351   9216418  706.157306\n",
      "1700     Zimbabwe    Africa  1992   60.377  10704340  693.420786\n",
      "1701     Zimbabwe    Africa  1997   46.809  11404948  792.449960\n",
      "1702     Zimbabwe    Africa  2002   39.989  11926563  672.038623\n",
      "1703     Zimbabwe    Africa  2007   43.487  12311143  469.709298\n",
      "\n",
      "[1704 rows x 6 columns]\n"
     ]
    }
   ],
   "source": [
    "subset = df.iloc[:, ::]\n",
    "print(subset)"
   ]
  },
  {
   "cell_type": "code",
   "execution_count": 30,
   "id": "52b6039e-4e99-48d2-bd8d-9376c08237e3",
   "metadata": {},
   "outputs": [
    {
     "name": "stdout",
     "output_type": "stream",
     "text": [
      "         country  lifeExp    gdpPercap\n",
      "0    Afghanistan   28.801   779.445314\n",
      "99    Bangladesh   43.453   721.186086\n",
      "999     Mongolia   51.253  1226.041130\n"
     ]
    }
   ],
   "source": [
    "print(df.iloc[[0,99,999], [0,3,5]])"
   ]
  },
  {
   "cell_type": "code",
   "execution_count": 31,
   "id": "45a58c9a-d176-49b7-ba31-497c22e4d0fa",
   "metadata": {},
   "outputs": [
    {
     "name": "stdout",
     "output_type": "stream",
     "text": [
      "country\n",
      "Afghanistan           37.478833\n",
      "Albania               68.432917\n",
      "Algeria               59.030167\n",
      "Angola                37.883500\n",
      "Argentina             69.060417\n",
      "                        ...    \n",
      "Vietnam               57.479500\n",
      "West Bank and Gaza    60.328667\n",
      "Yemen, Rep.           46.780417\n",
      "Zambia                45.996333\n",
      "Zimbabwe              52.663167\n",
      "Name: lifeExp, Length: 142, dtype: float64\n"
     ]
    }
   ],
   "source": [
    "# perform Grouping/Aggregate calculations\n",
    "\n",
    "groupby_year = df.groupby('country')\n",
    "print(groupby_year['lifeExp'].mean())"
   ]
  },
  {
   "cell_type": "code",
   "execution_count": 32,
   "id": "731df5af-4844-4204-921b-c3ba30c0b89a",
   "metadata": {},
   "outputs": [
    {
     "name": "stdout",
     "output_type": "stream",
     "text": [
      "                            lifeExp     gdpPercap\n",
      "continent country                                \n",
      "Africa    Algeria         59.030167   4426.025973\n",
      "          Angola          37.883500   3607.100529\n",
      "          Benin           48.779917   1155.395107\n",
      "          Botswana        54.597500   5031.503557\n",
      "          Burkina Faso    44.694000    843.990665\n",
      "...                             ...           ...\n",
      "Europe    Switzerland     75.565083  27074.334405\n",
      "          Turkey          59.696417   4469.453380\n",
      "          United Kingdom  73.922583  19380.472986\n",
      "Oceania   Australia       74.662917  19980.595634\n",
      "          New Zealand     73.989500  17262.622813\n",
      "\n",
      "[142 rows x 2 columns]\n"
     ]
    }
   ],
   "source": [
    "# groupby multiple columns\n",
    "\n",
    "grouped_countries = df.groupby(['continent','country'])\n",
    "mean_data = grouped_countries[['lifeExp', 'gdpPercap']].mean()\n",
    "print(mean_data)"
   ]
  },
  {
   "cell_type": "code",
   "execution_count": 33,
   "id": "c8c0b4a7-5f68-4e8f-926e-df664f6ba33e",
   "metadata": {},
   "outputs": [
    {
     "name": "stdout",
     "output_type": "stream",
     "text": [
      "    continent         country    lifeExp     gdpPercap\n",
      "0      Africa         Algeria  59.030167   4426.025973\n",
      "1      Africa          Angola  37.883500   3607.100529\n",
      "2      Africa           Benin  48.779917   1155.395107\n",
      "3      Africa        Botswana  54.597500   5031.503557\n",
      "4      Africa    Burkina Faso  44.694000    843.990665\n",
      "..        ...             ...        ...           ...\n",
      "137    Europe     Switzerland  75.565083  27074.334405\n",
      "138    Europe          Turkey  59.696417   4469.453380\n",
      "139    Europe  United Kingdom  73.922583  19380.472986\n",
      "140   Oceania       Australia  74.662917  19980.595634\n",
      "141   Oceania     New Zealand  73.989500  17262.622813\n",
      "\n",
      "[142 rows x 4 columns]\n"
     ]
    }
   ],
   "source": [
    "# perform groupby using method chaining and reset_index method to show all\n",
    "# the columns on one line with index label\n",
    "\n",
    "mean_data = (\n",
    "    df\n",
    "    .groupby(['continent', 'country'])\n",
    "    [['lifeExp', 'gdpPercap']]\n",
    "    .mean()\n",
    ")\n",
    "\n",
    "print(mean_data.reset_index())"
   ]
  },
  {
   "cell_type": "code",
   "execution_count": 34,
   "id": "562178bd-4609-4d20-bbf9-cf74b721396c",
   "metadata": {},
   "outputs": [
    {
     "name": "stdout",
     "output_type": "stream",
     "text": [
      "  continent  country\n",
      "0    Africa       52\n",
      "1  Americas       25\n",
      "2      Asia       33\n",
      "3    Europe       30\n",
      "4   Oceania        2\n"
     ]
    }
   ],
   "source": [
    "# Grouped frequencies count\n",
    "# below example fetches data to tell the unique countries present in the given continent\n",
    "\n",
    "print(df.groupby('continent')['country'].nunique().reset_index())"
   ]
  },
  {
   "cell_type": "code",
   "execution_count": 35,
   "id": "cb06d254-c5cd-40f1-8bd5-b436c0fd65a1",
   "metadata": {},
   "outputs": [
    {
     "name": "stdout",
     "output_type": "stream",
     "text": [
      "    continent         country  count\n",
      "0      Africa         Algeria     12\n",
      "1      Africa          Angola     12\n",
      "2      Africa           Benin     12\n",
      "3      Africa        Botswana     12\n",
      "4      Africa    Burkina Faso     12\n",
      "..        ...             ...    ...\n",
      "137    Europe     Switzerland     12\n",
      "138    Europe          Turkey     12\n",
      "139    Europe  United Kingdom     12\n",
      "140   Oceania       Australia     12\n",
      "141   Oceania     New Zealand     12\n",
      "\n",
      "[142 rows x 3 columns]\n",
      "  continent  count\n",
      "0    Africa    624\n",
      "1  Americas    300\n",
      "2      Asia    396\n",
      "3    Europe    360\n",
      "4   Oceania     24\n"
     ]
    }
   ],
   "source": [
    "# Grouped frequencies count\n",
    "# use 'value_counts()' method to get the number of rows present for the given grouped data\n",
    "\n",
    "print(df.groupby('continent')['country'].value_counts().reset_index())\n",
    "print(df.groupby('continent')['continent'].value_counts().reset_index(),)"
   ]
  },
  {
   "cell_type": "code",
   "execution_count": 36,
   "id": "1bfe4382-0a06-49ad-a432-89f471d2665c",
   "metadata": {
    "scrolled": true
   },
   "outputs": [
    {
     "data": {
      "image/png": "[encoded data removed]",
      "text/plain": [
       "<Figure size 640x480 with 1 Axes>"
      ]
     },
     "metadata": {},
     "output_type": "display_data"
    }
   ],
   "source": [
    "# plotting graphs using matplotlib\n",
    "\n",
    "import matplotlib.pyplot as plt\n",
    "\n",
    "grouped_data = df.groupby('year')['lifeExp'].mean()\n",
    "# print(grouped_data)\n",
    "\n",
    "grouped_data.plot()\n",
    "\n",
    "plt.show()"
   ]
  },
  {
   "cell_type": "code",
   "execution_count": 37,
   "id": "8d2e50a1-6e09-4f74-a487-a84fa511682f",
   "metadata": {},
   "outputs": [
    {
     "name": "stdout",
     "output_type": "stream",
     "text": [
      "      lifeExp\n",
      "year         \n",
      "1952  45.1355\n",
      "1957  48.3605\n",
      "1962  50.8810\n",
      "1967  53.8250\n",
      "1972  56.5300\n",
      "1977  59.6720\n",
      "1982  62.4415\n",
      "1987  65.8340\n",
      "1992  67.7030\n",
      "1997  69.3940\n",
      "2002  70.8255\n",
      "2007  71.9355\n",
      "        gdpPercap\n",
      "year             \n",
      "1952  1968.528344\n",
      "1957  2173.220291\n",
      "1962  2335.439533\n",
      "1967  2678.334740\n",
      "1972  3339.129407\n",
      "1977  3798.609244\n",
      "1982  4216.228428\n",
      "1987  4280.300366\n",
      "1992  4386.085502\n",
      "1997  4781.825478\n",
      "2002  5319.804524\n",
      "2007  6124.371108\n"
     ]
    },
    {
     "data": {
      "image/png": "[encoded data removed]",
      "text/plain": [
       "<Figure size 640x480 with 1 Axes>"
      ]
     },
     "metadata": {},
     "output_type": "display_data"
    },
    {
     "data": {
      "image/png": "[encoded data removed]",
      "text/plain": [
       "<Figure size 640x480 with 1 Axes>"
      ]
     },
     "metadata": {},
     "output_type": "display_data"
    }
   ],
   "source": [
    "# plotting graphs using matplotlib\n",
    "\n",
    "import matplotlib.pyplot as plt\n",
    "\n",
    "life_data = df.groupby('year')[['lifeExp']].median()\n",
    "print(life_data)\n",
    "gdp_data = df.groupby('year')[['gdpPercap']].median()\n",
    "print(gdp_data)\n",
    "\n",
    "life_data.plot()\n",
    "gdp_data.plot()\n",
    "plt.show()"
   ]
  },
  {
   "cell_type": "code",
   "execution_count": null,
   "id": "dedaaf7a-ae9f-43ef-8dbf-f45708761c12",
   "metadata": {},
   "outputs": [],
   "source": []
  },
  {
   "cell_type": "code",
   "execution_count": null,
   "id": "757fc191-5f71-4864-a395-1f50e5f75e35",
   "metadata": {},
   "outputs": [],
   "source": []
  },
  {
   "cell_type": "code",
   "execution_count": null,
   "id": "3dc83ca1-983e-47c6-a60a-4d693ff99e37",
   "metadata": {},
   "outputs": [],
   "source": []
  },
  {
   "cell_type": "code",
   "execution_count": null,
   "id": "3d81d4e6-eadd-464b-bdfd-bc909ae1a0d7",
   "metadata": {},
   "outputs": [],
   "source": []
  },
  {
   "cell_type": "code",
   "execution_count": null,
   "id": "f2d43b9e-8236-4151-b7bc-9e7235a23834",
   "metadata": {},
   "outputs": [],
   "source": []
  },
  {
   "cell_type": "code",
   "execution_count": null,
   "id": "84574917-0da7-4525-9363-3ae79b6bae1d",
   "metadata": {},
   "outputs": [],
   "source": []
  },
  {
   "cell_type": "code",
   "execution_count": null,
   "id": "6e1cf00e-ff40-485a-b0d8-074ffefd4eb6",
   "metadata": {},
   "outputs": [],
   "source": []
  },
  {
   "cell_type": "code",
   "execution_count": null,
   "id": "54c5b709-c81d-49b9-925d-16792286b17b",
   "metadata": {},
   "outputs": [],
   "source": []
  },
  {
   "cell_type": "code",
   "execution_count": null,
   "id": "ca93c0eb-35e8-4260-a79d-1d81ef60586e",
   "metadata": {},
   "outputs": [],
   "source": []
  },
  {
   "cell_type": "code",
   "execution_count": null,
   "id": "6969f507-d38b-4bb3-8c1e-7653b18bdba9",
   "metadata": {},
   "outputs": [],
   "source": []
  },
  {
   "cell_type": "code",
   "execution_count": null,
   "id": "cb4c91f0-ffd3-416c-a816-0688054feb26",
   "metadata": {},
   "outputs": [],
   "source": []
  },
  {
   "cell_type": "code",
   "execution_count": null,
   "id": "71a94b08-195d-4f46-9dc8-a5cdb23cac2b",
   "metadata": {},
   "outputs": [],
   "source": []
  },
  {
   "cell_type": "code",
   "execution_count": null,
   "id": "631e38cb-7528-4f5b-a895-8a1d15e7575f",
   "metadata": {},
   "outputs": [],
   "source": []
  },
  {
   "cell_type": "code",
   "execution_count": null,
   "id": "ea27548a-7de1-414d-ac88-9e56caa0e810",
   "metadata": {},
   "outputs": [],
   "source": []
  },
  {
   "cell_type": "code",
   "execution_count": null,
   "id": "c64c5018-da3d-43fc-984a-90508372349f",
   "metadata": {},
   "outputs": [],
   "source": []
  }
 ],
 "metadata": {
  "kernelspec": {
   "display_name": "Python 3 (ipykernel)",
   "language": "python",
   "name": "python3"
  },
  "language_info": {
   "codemirror_mode": {
    "name": "ipython",
    "version": 3
   },
   "file_extension": ".py",
   "mimetype": "text/x-python",
   "name": "python",
   "nbconvert_exporter": "python",
   "pygments_lexer": "ipython3",
   "version": "3.13.6"
  }
 },
 "nbformat": 4,
 "nbformat_minor": 5
}
