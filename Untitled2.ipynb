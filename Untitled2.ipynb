{
 "cells": [
  {
   "cell_type": "code",
   "execution_count": 32,
   "id": "f15d8e08-baf9-4d74-9fe9-a8f00299ec92",
   "metadata": {},
   "outputs": [
    {
     "name": "stdout",
     "output_type": "stream",
     "text": [
      "0\n",
      "1\n",
      "2\n",
      "3\n",
      "4\n",
      "<built-in method total_seconds of datetime.timedelta object at 0x7f94743b5410>\n"
     ]
    }
   ],
   "source": [
    "import datetime\n",
    "\n",
    "\n",
    "def mydecorator(func):\n",
    "    def wrapper():\n",
    "        start_time = datetime.datetime.now()\n",
    "        func()\n",
    "        end_time = datetime.datetime.now()\n",
    "        total_time = end_time- start_time\n",
    "        print(total_time.total_seconds)\n",
    "    return wrapper\n",
    "\n",
    "@mydecorator\n",
    "def myfunc():\n",
    "    for item in range(0, 5):\n",
    "        print(item)\n",
    "        time.sleep(1)\n",
    "\n",
    "myfunc()\n",
    "        "
   ]
  },
  {
   "cell_type": "code",
   "execution_count": 20,
   "id": "ef5b4bdf-cf18-40cb-abe6-a25b04bbb1f5",
   "metadata": {},
   "outputs": [
    {
     "name": "stdin",
     "output_type": "stream",
     "text": [
      "Enter your string:  hello\n"
     ]
    },
    {
     "name": "stdout",
     "output_type": "stream",
     "text": [
      "olleh\n"
     ]
    }
   ],
   "source": [
    "user_input = input(\"Enter your string: \")\n",
    "\n",
    "\n",
    "def reverse_str(user_input):\n",
    "    reverse_string = \"\"\n",
    "    for char in user_input:\n",
    "        reverse_string = char + reverse_string\n",
    "\n",
    "    return reverse_string\n",
    "\n",
    "\n",
    "\n",
    "\n",
    "print(reverse_str(user_input))"
   ]
  },
  {
   "cell_type": "code",
   "execution_count": null,
   "id": "cda1d8c3-815e-4efa-83af-cc1932c89ece",
   "metadata": {},
   "outputs": [],
   "source": []
  }
 ],
 "metadata": {
  "kernelspec": {
   "display_name": "Python 3 (ipykernel)",
   "language": "python",
   "name": "python3"
  },
  "language_info": {
   "codemirror_mode": {
    "name": "ipython",
    "version": 3
   },
   "file_extension": ".py",
   "mimetype": "text/x-python",
   "name": "python",
   "nbconvert_exporter": "python",
   "pygments_lexer": "ipython3",
   "version": "3.13.6"
  }
 },
 "nbformat": 4,
 "nbformat_minor": 5
}
