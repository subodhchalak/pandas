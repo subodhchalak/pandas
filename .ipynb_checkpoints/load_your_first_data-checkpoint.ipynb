{
 "cells": [
  {
   "cell_type": "code",
   "execution_count": 18,
   "id": "1eb0cd90-188e-432b-9b6b-b62bc735cb55",
   "metadata": {},
   "outputs": [
    {
     "name": "stdout",
     "output_type": "stream",
     "text": [
      "          country continent  year  lifeExp       pop   gdpPercap\n",
      "0     Afghanistan      Asia  1952   28.801   8425333  779.445314\n",
      "1     Afghanistan      Asia  1957   30.332   9240934  820.853030\n",
      "2     Afghanistan      Asia  1962   31.997  10267083  853.100710\n",
      "3     Afghanistan      Asia  1967   34.020  11537966  836.197138\n",
      "4     Afghanistan      Asia  1972   36.088  13079460  739.981106\n",
      "...           ...       ...   ...      ...       ...         ...\n",
      "1699     Zimbabwe    Africa  1987   62.351   9216418  706.157306\n",
      "1700     Zimbabwe    Africa  1992   60.377  10704340  693.420786\n",
      "1701     Zimbabwe    Africa  1997   46.809  11404948  792.449960\n",
      "1702     Zimbabwe    Africa  2002   39.989  11926563  672.038623\n",
      "1703     Zimbabwe    Africa  2007   43.487  12311143  469.709298\n",
      "\n",
      "[1704 rows x 6 columns]\n"
     ]
    }
   ],
   "source": [
    "import pandas as pd\n",
    "\n",
    "df = pd.read_csv(\"gapminder.tsv\", sep=\"\\t\")\n",
    "print(df)\n"
   ]
  },
  {
   "cell_type": "code",
   "execution_count": 19,
   "id": "2be13dd5-5254-4678-bc11-3288bb827c67",
   "metadata": {},
   "outputs": [
    {
     "name": "stdout",
     "output_type": "stream",
     "text": [
      "<class 'pandas.core.frame.DataFrame'>\n"
     ]
    }
   ],
   "source": [
    "print(type(df))"
   ]
  },
  {
   "cell_type": "code",
   "execution_count": 20,
   "id": "20bed511-120f-43b5-820c-95be02140101",
   "metadata": {},
   "outputs": [
    {
     "name": "stdout",
     "output_type": "stream",
     "text": [
      "(1704, 6)\n"
     ]
    }
   ],
   "source": [
    "print(df.shape)"
   ]
  },
  {
   "cell_type": "code",
   "execution_count": 24,
   "id": "c4c13141-04ac-4e8c-90a1-381eb0c62961",
   "metadata": {},
   "outputs": [
    {
     "name": "stdout",
     "output_type": "stream",
     "text": [
      "Index(['country', 'continent', 'year', 'lifeExp', 'pop', 'gdpPercap'], dtype='object')\n",
      "1 country\n",
      "2 continent\n",
      "3 year\n",
      "4 lifeExp\n",
      "5 pop\n",
      "6 gdpPercap\n"
     ]
    }
   ],
   "source": [
    "print(df.columns)\n",
    "for index, column in enumerate(df.columns, 1):\n",
    "    print(index, column)"
   ]
  },
  {
   "cell_type": "code",
   "execution_count": 25,
   "id": "50081437-5235-4ec0-a5fe-1939f6d14ae9",
   "metadata": {},
   "outputs": [
    {
     "name": "stdout",
     "output_type": "stream",
     "text": [
      "country       object\n",
      "continent     object\n",
      "year           int64\n",
      "lifeExp      float64\n",
      "pop            int64\n",
      "gdpPercap    float64\n",
      "dtype: object\n"
     ]
    }
   ],
   "source": [
    "print(df.dtypes)"
   ]
  },
  {
   "cell_type": "code",
   "execution_count": 30,
   "id": "d78ae0fb-be9f-4891-ace0-041a50a46ce2",
   "metadata": {},
   "outputs": [
    {
     "name": "stdout",
     "output_type": "stream",
     "text": [
      "<class 'pandas.core.frame.DataFrame'>\n",
      "RangeIndex: 1704 entries, 0 to 1703\n",
      "Data columns (total 6 columns):\n",
      " #   Column     Non-Null Count  Dtype  \n",
      "---  ------     --------------  -----  \n",
      " 0   country    1704 non-null   object \n",
      " 1   continent  1704 non-null   object \n",
      " 2   year       1704 non-null   int64  \n",
      " 3   lifeExp    1704 non-null   float64\n",
      " 4   pop        1704 non-null   int64  \n",
      " 5   gdpPercap  1704 non-null   float64\n",
      "dtypes: float64(2), int64(2), object(2)\n",
      "memory usage: 80.0+ KB\n",
      "None\n"
     ]
    }
   ],
   "source": [
    "print(df.info())"
   ]
  },
  {
   "cell_type": "code",
   "execution_count": 32,
   "id": "359792d0-df5d-495b-8ee9-66cb0409435d",
   "metadata": {},
   "outputs": [
    {
     "name": "stdout",
     "output_type": "stream",
     "text": [
      "       country continent  year  lifeExp       pop   gdpPercap\n",
      "0  Afghanistan      Asia  1952   28.801   8425333  779.445314\n",
      "1  Afghanistan      Asia  1957   30.332   9240934  820.853030\n",
      "2  Afghanistan      Asia  1962   31.997  10267083  853.100710\n",
      "3  Afghanistan      Asia  1967   34.020  11537966  836.197138\n",
      "4  Afghanistan      Asia  1972   36.088  13079460  739.981106\n"
     ]
    }
   ],
   "source": [
    "print(df.head())"
   ]
  },
  {
   "cell_type": "code",
   "execution_count": 34,
   "id": "271a01fd-6130-43ab-9609-cf44e9437a0c",
   "metadata": {},
   "outputs": [
    {
     "name": "stdout",
     "output_type": "stream",
     "text": [
      "0    Afghanistan\n",
      "1    Afghanistan\n",
      "2    Afghanistan\n",
      "3    Afghanistan\n",
      "4    Afghanistan\n",
      "Name: country, dtype: object\n"
     ]
    }
   ],
   "source": [
    "print(df['country'].head())"
   ]
  },
  {
   "cell_type": "code",
   "execution_count": 35,
   "id": "cee34c9e-2272-47c8-9ce9-f67a1beb4405",
   "metadata": {},
   "outputs": [
    {
     "name": "stdout",
     "output_type": "stream",
     "text": [
      "1699    Zimbabwe\n",
      "1700    Zimbabwe\n",
      "1701    Zimbabwe\n",
      "1702    Zimbabwe\n",
      "1703    Zimbabwe\n",
      "Name: country, dtype: object\n"
     ]
    }
   ],
   "source": [
    "print(df['country'].tail())"
   ]
  },
  {
   "cell_type": "code",
   "execution_count": 45,
   "id": "c08ee7d5-f88d-42e5-a2da-20dcc6f810a2",
   "metadata": {},
   "outputs": [
    {
     "name": "stdout",
     "output_type": "stream",
     "text": [
      "       country continent       pop\n",
      "0  Afghanistan      Asia   8425333\n",
      "1  Afghanistan      Asia   9240934\n",
      "2  Afghanistan      Asia  10267083\n",
      "3  Afghanistan      Asia  11537966\n",
      "4  Afghanistan      Asia  13079460\n"
     ]
    }
   ],
   "source": [
    "print(df[['country', 'continent', 'pop']].head())\n",
    "\n"
   ]
  },
  {
   "cell_type": "code",
   "execution_count": 46,
   "id": "4ef46b12-ef6a-4d05-b28b-84f1c5358855",
   "metadata": {},
   "outputs": [
    {
     "name": "stdout",
     "output_type": "stream",
     "text": [
      "        country continent       pop\n",
      "10  Afghanistan      Asia  25268405\n",
      "11  Afghanistan      Asia  31889923\n",
      "12      Albania    Europe   1282697\n",
      "13      Albania    Europe   1476505\n",
      "14      Albania    Europe   1728137\n",
      "15      Albania    Europe   1984060\n",
      "16      Albania    Europe   2263554\n",
      "17      Albania    Europe   2509048\n",
      "18      Albania    Europe   2780097\n",
      "19      Albania    Europe   3075321\n"
     ]
    }
   ],
   "source": [
    "print(df[['country', 'continent', 'pop']][10:20])"
   ]
  },
  {
   "cell_type": "code",
   "execution_count": 51,
   "id": "dc82f148-5fcf-4016-b8c9-44941a15c80b",
   "metadata": {},
   "outputs": [
    {
     "name": "stdout",
     "output_type": "stream",
     "text": [
      "10 Afghanistan\n",
      "11 Afghanistan\n",
      "12 Albania\n",
      "13 Albania\n",
      "14 Albania\n",
      "15 Albania\n",
      "16 Albania\n",
      "17 Albania\n",
      "18 Albania\n",
      "19 Albania\n"
     ]
    }
   ],
   "source": [
    "# subset the df based on the column name\n",
    "\n",
    "country_subset = df['country']\n",
    "for index, csub in enumerate(country_subset[10:20], 10):\n",
    "    print(index, csub)"
   ]
  },
  {
   "cell_type": "code",
   "execution_count": 57,
   "id": "ca87057e-9f8b-454b-b07d-1d0029f5d5d7",
   "metadata": {},
   "outputs": [
    {
     "name": "stdout",
     "output_type": "stream",
     "text": [
      "30    Algeria\n",
      "31    Algeria\n",
      "32    Algeria\n",
      "33    Algeria\n",
      "34    Algeria\n",
      "Name: country, dtype: object\n",
      "<class 'pandas.core.series.Series'>\n"
     ]
    }
   ],
   "source": [
    "country_subset = df['country'][30:35]\n",
    "print(country_subset)\n",
    "print(type(country_subset))"
   ]
  },
  {
   "cell_type": "code",
   "execution_count": 59,
   "id": "71eec44f-bec4-469e-ad95-8be1a1b1a823",
   "metadata": {},
   "outputs": [
    {
     "name": "stdout",
     "output_type": "stream",
     "text": [
      "    country       pop\n",
      "30  Algeria  20033753\n",
      "31  Algeria  23254956\n",
      "32  Algeria  26298373\n",
      "33  Algeria  29072015\n",
      "34  Algeria  31287142\n",
      "<class 'pandas.core.frame.DataFrame'>\n"
     ]
    }
   ],
   "source": [
    "country_subset = df[['country', 'pop']][30:35]\n",
    "print(country_subset)\n",
    "print(type(country_subset))"
   ]
  },
  {
   "cell_type": "code",
   "execution_count": null,
   "id": "c3ebe8a6-3b32-4541-acad-9aec0782d99d",
   "metadata": {},
   "outputs": [],
   "source": []
  }
 ],
 "metadata": {
  "kernelspec": {
   "display_name": "Python 3 (ipykernel)",
   "language": "python",
   "name": "python3"
  },
  "language_info": {
   "codemirror_mode": {
    "name": "ipython",
    "version": 3
   },
   "file_extension": ".py",
   "mimetype": "text/x-python",
   "name": "python",
   "nbconvert_exporter": "python",
   "pygments_lexer": "ipython3",
   "version": "3.13.0"
  }
 },
 "nbformat": 4,
 "nbformat_minor": 5
}
