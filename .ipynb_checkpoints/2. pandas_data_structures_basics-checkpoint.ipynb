{
 "cells": [
  {
   "cell_type": "code",
   "execution_count": 3,
   "id": "fec59b36-91be-4115-a935-f7f38436f5de",
   "metadata": {},
   "outputs": [
    {
     "name": "stdout",
     "output_type": "stream",
     "text": [
      "x      one\n",
      "y      two\n",
      "z    three\n",
      "a        4\n",
      "b        5\n",
      "dtype: object\n"
     ]
    }
   ],
   "source": [
    "#Create pandas series\n",
    "# series is like a python list but will contain only items of similar data types\n",
    "import pandas as pd\n",
    "mylist = ['one', 'two', 'three', 4, 5]\n",
    "\n",
    "s = pd.Series(data=mylist, index=['x', 'y', 'z', 'a', 'b'])\n",
    "print(s)\n"
   ]
  },
  {
   "cell_type": "code",
   "execution_count": null,
   "id": "16d3d40c-8cb6-465a-b963-72c13ffb55cb",
   "metadata": {},
   "outputs": [
    {
     "name": "stdout",
     "output_type": "stream",
     "text": [
      "one      1\n",
      "two      2\n",
      "three    3\n",
      "dtype: int64\n"
     ]
    }
   ],
   "source": [
    "# if python dict is used to create a Series, it will used dict keys as the label \n",
    "import pandas as pd\n",
    "\n",
    "mydict = {\n",
    "    'one': 1,\n",
    "    'two': 2,\n",
    "    'three': 3\n",
    "}\n",
    "\n",
    "s = pd.Series(data=mydict)\n",
    "print(s)"
   ]
  },
  {
   "cell_type": "code",
   "execution_count": null,
   "id": "80a2581b-43fd-4760-bf35-267ed250dad3",
   "metadata": {},
   "outputs": [
    {
     "name": "stdout",
     "output_type": "stream",
     "text": [
      "x   NaN\n",
      "y   NaN\n",
      "z   NaN\n",
      "dtype: float64\n"
     ]
    }
   ],
   "source": [
    "# Note that the Index is first build with the keys from the dictionary.\n",
    "# After this the Series is reindexed with the given Index values, hence we get all NaN as a result.\n",
    "import pandas as pd\n",
    "\n",
    "mydict = {\n",
    "    'one': 1,\n",
    "    'two': 2,\n",
    "    'three': 3\n",
    "}\n",
    "\n",
    "s = pd.Series(data=mydict, index=['x', 'y', 'z'])\n",
    "print(s) "
   ]
  },
  {
   "cell_type": "code",
   "execution_count": null,
   "id": "1d43c78b-a532-497a-a16e-6220c47eb4b7",
   "metadata": {},
   "outputs": [
    {
     "name": "stdout",
     "output_type": "stream",
     "text": [
      "DF without row labels: \n",
      "    name department  salaries  age\n",
      "0    ram        ceo       100   60\n",
      "1  shyam        cto       200   50\n",
      "2  bheem         hr        50   40\n",
      "\n",
      "DF with row labels: \n",
      "    name department  salaries  age\n",
      "a    ram        ceo       100   60\n",
      "b  shyam        cto       200   50\n",
      "c  bheem         hr        50   40\n",
      "\n",
      "DF with column values: \n",
      "    name department  salaries\n",
      "a    ram        ceo       100\n",
      "b  shyam        cto       200\n",
      "c  bheem         hr        50\n"
     ]
    }
   ],
   "source": [
    "# create a dataframe using python dict\n",
    "# here name of the dict will be used a column name and its value as a row for df\n",
    "\n",
    "import pandas as pd\n",
    "mydict = {\n",
    "    'name': ['ram', 'shyam', 'bheem'],\n",
    "    'department': ['ceo', 'cto', 'hr'],\n",
    "    'salaries': [100, 200, 50],\n",
    "    'age': [60, 50, 40]\n",
    "}\n",
    "\n",
    "# DF without explicit row labels\n",
    "df = pd.DataFrame(data=mydict)\n",
    "print(f\"DF without row labels: \\n{df}\\n\")\n",
    "\n",
    "# DF with explicit row labels\n",
    "df = pd.DataFrame(data=mydict, index=['a', 'b', 'c'])\n",
    "print(f\"DF with row labels: \\n{df}\\n\")\n",
    "\n",
    "# Df with only specific columns selected out of the mydict\n",
    "df = pd.DataFrame(data=mydict, index=['a', 'b', 'c'], columns=['name', 'department', 'salaries'])\n",
    "print(f\"DF with column values: \\n{df}\")\n"
   ]
  },
  {
   "cell_type": "code",
   "execution_count": null,
   "id": "dba2346c",
   "metadata": {},
   "outputs": [
    {
     "name": "stdout",
     "output_type": "stream",
     "text": [
      "Default data: \n",
      "    name department  salaries  age\n",
      "0    ram        ceo        90   60\n",
      "1  shyam        cto       210   70\n",
      "2  bheem         hr        80   35\n",
      "\n",
      "First row data: \n",
      "name          ram\n",
      "department    ceo\n",
      "salaries       90\n",
      "age            60\n",
      "Name: 0, dtype: object\n",
      "first row data type: <class 'pandas.core.series.Series'>\n",
      "\n",
      "['ram' 'ceo' np.int64(90) np.int64(60)] \n",
      "\n",
      "name          bheem\n",
      "department       hr\n",
      "salaries         80\n",
      "age              35\n",
      "Name: 2, dtype: object \n",
      "\n",
      "T: Index(['name', 'department', 'salaries', 'age'], dtype='object')\n",
      "['ram' 'ceo' 90 60]\n",
      "['shyam' 'cto' 210 70]\n",
      "['bheem' 'hr' 80 35]\n",
      "\n",
      "\n",
      "min: 35\n",
      "max: 70\n",
      "mean: 55.0\n",
      "deviation: 18.027756377319946\n",
      "isin: 0    False\n",
      "1    False\n",
      "2     True\n",
      "Name: age, dtype: bool\n"
     ]
    }
   ],
   "source": [
    "import pandas as pd\n",
    "mydict = {\n",
    "    'name': ['ram', 'shyam', 'bheem'],\n",
    "    'department': ['ceo', 'cto', 'hr'],\n",
    "    'salaries': [90, 210, 80],\n",
    "    'age': [60, 70, 35]\n",
    "}\n",
    "\n",
    "# DF without explicit row labels\n",
    "df = pd.DataFrame(data=mydict)\n",
    "print(f\"Default data: \\n{df}\\n\")\n",
    "\n",
    "first_row = df.loc[0]\n",
    "print(f\"First row data: \\n{first_row}\")\n",
    "print(f\"first row data type: {type(first_row)}\\n\")\n",
    "print(first_row.values, \"\\n\")\n",
    "print(df.iloc[2], \"\\n\")\n",
    "print(\"T:\" , df.columns)\n",
    "\n",
    "for col in df.values: print(col)\n",
    "\n",
    "print(\"\\n\")\n",
    "print(f\"min: {df['age'].min()}\")\n",
    "print(f\"max: {df['age'].max()}\")\n",
    "print(f\"mean: {df['age'].mean()}\")\n",
    "print(f\"deviation: {df['age'].std()}\")\n",
    "# print(f\"Histogram: {df['age'].hist()}\")\n",
    "# print(f\"Describe: {df['age'].describe()}\")\n",
    "print(f\"isin: {df['age'].isin([35])}\")\n",
    "\n",
    "\n"
   ]
  },
  {
   "cell_type": "code",
   "execution_count": 103,
   "id": "4e4930e0",
   "metadata": {},
   "outputs": [
    {
     "name": "stdout",
     "output_type": "stream",
     "text": [
      "5.946187253790689\n",
      "17.25\n",
      "[20 12 23 21 16]\n",
      "   values\n",
      "0      20\n",
      "1      12\n",
      "2      23\n",
      "3      23\n",
      "4      20\n",
      "5      23\n",
      "6      21\n",
      "7      16 <class 'pandas.core.frame.DataFrame'>\n"
     ]
    }
   ],
   "source": [
    "import pandas as pd\n",
    "\n",
    "df = pd.DataFrame({'values': [10, 12, 23, 23, 10, 23, 21, 16]})\n",
    "std_dev = df['values'].std()\n",
    "print(std_dev)\n",
    "print(df['values'].mean())\n",
    "df['values']= df['values'].replace(10, 20)\n",
    "print(df['values'].unique())\n",
    "print(df['values'].to_frame(), type(df['values'].to_frame()))"
   ]
  },
  {
   "cell_type": "code",
   "execution_count": null,
   "id": "d19b6fbd",
   "metadata": {},
   "outputs": [],
   "source": []
  }
 ],
 "metadata": {
  "kernelspec": {
   "display_name": "Python 3",
   "language": "python",
   "name": "python3"
  },
  "language_info": {
   "codemirror_mode": {
    "name": "ipython",
    "version": 3
   },
   "file_extension": ".py",
   "mimetype": "text/x-python",
   "name": "python",
   "nbconvert_exporter": "python",
   "pygments_lexer": "ipython3",
   "version": "3.13.5"
  }
 },
 "nbformat": 4,
 "nbformat_minor": 5
}
