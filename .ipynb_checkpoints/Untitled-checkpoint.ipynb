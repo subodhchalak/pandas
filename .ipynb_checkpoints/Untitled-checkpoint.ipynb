{
 "cells": [
  {
   "cell_type": "code",
   "execution_count": 1,
   "id": "a4813664-d9ba-4e07-aaf6-b001c14a4a3b",
   "metadata": {},
   "outputs": [],
   "source": [
    "def panlindrom(user_string):\n",
    "    reverse_string = \"\"\n",
    "    user_list = []\n",
    "    for item in user_string:\n",
    "        user_list.append(item)\n",
    "    print(f\"original list: {user_list}\")\n",
    "    user_list = user_list.reverse()\n",
    "    print(f\"rev original list: {user_list}\")\n",
    "    for item in user_list:\n",
    "        reverse_string+=item\n",
    "    if reverse_string == user_string:\n",
    "        return True\n",
    "    return False\n",
    "\n",
    "\n",
    "\n",
    "\n",
    "\n"
   ]
  },
  {
   "cell_type": "code",
   "execution_count": 6,
   "id": "98d6a117-c367-4b35-8ac8-073886dab07e",
   "metadata": {},
   "outputs": [
    {
     "name": "stdout",
     "output_type": "stream",
     "text": [
      "['hello']\n"
     ]
    }
   ],
   "source": [
    "mystring = \"hello\"\n",
    "print(mystring.split(','))"
   ]
  },
  {
   "cell_type": "code",
   "execution_count": null,
   "id": "24836584-dbe4-49e3-858f-8c1c6977f95b",
   "metadata": {},
   "outputs": [],
   "source": []
  }
 ],
 "metadata": {
  "kernelspec": {
   "display_name": "Python 3 (ipykernel)",
   "language": "python",
   "name": "python3"
  },
  "language_info": {
   "codemirror_mode": {
    "name": "ipython",
    "version": 3
   },
   "file_extension": ".py",
   "mimetype": "text/x-python",
   "name": "python",
   "nbconvert_exporter": "python",
   "pygments_lexer": "ipython3",
   "version": "3.13.5"
  }
 },
 "nbformat": 4,
 "nbformat_minor": 5
}
