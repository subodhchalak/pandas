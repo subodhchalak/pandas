{
 "cells": [
  {
   "cell_type": "code",
   "execution_count": 2,
   "id": "75438777-620e-4c71-8c82-cac581242aa0",
   "metadata": {},
   "outputs": [
    {
     "name": "stdout",
     "output_type": "stream",
     "text": [
      "0\n",
      "1\n",
      "1\n",
      "2\n",
      "3\n",
      "5\n",
      "8\n",
      "13\n",
      "21\n",
      "34\n"
     ]
    }
   ],
   "source": [
    "def fibonacci(num):\n",
    "    a, b = 0, 1\n",
    "    for item in range(0, num):\n",
    "        yield a\n",
    "        a,b = b, a+b\n",
    "\n",
    "fibs = fibonacci(10)\n",
    "\n",
    "for item in fibs:\n",
    "    print(item)"
   ]
  },
  {
   "cell_type": "code",
   "execution_count": 3,
   "id": "9a77fc18-cab0-4b73-be56-3f3757cf1dd9",
   "metadata": {},
   "outputs": [
    {
     "name": "stdout",
     "output_type": "stream",
     "text": [
      "Greetings from greeting function...\n",
      "hello world\n"
     ]
    }
   ],
   "source": [
    "def greet(fun1):\n",
    "    def wrapper(*args, **kwargs):\n",
    "        a,b = kwargs.get('a')\n",
    "        print(\"Greetings from greeting function...\")\n",
    "        fun1()\n",
    "    return wrapper\n",
    "\n",
    "@greet\n",
    "def hello():\n",
    "    print(\"hello world\")\n",
    "\n",
    "hello()"
   ]
  },
  {
   "cell_type": "code",
   "execution_count": 5,
   "id": "b6273146-4dac-4a97-93e6-d8874622a489",
   "metadata": {},
   "outputs": [
    {
     "name": "stdout",
     "output_type": "stream",
     "text": [
      "a=10, \n"
     ]
    },
    {
     "data": {
      "text/plain": [
       "'Division by 0 is not allowed'"
      ]
     },
     "execution_count": 5,
     "metadata": {},
     "output_type": "execute_result"
    }
   ],
   "source": [
    "def validation(func):\n",
    "    def wrapper(*args, **kwargs):\n",
    "        a,b = kwargs.get('a'), kwargs.get('b')\n",
    "        print(f\"a={a}, \")\n",
    "        if b == 0:\n",
    "            return \"Division by 0 is not allowed\"\n",
    "        func(*args, **kwargs)\n",
    "    return wrapper\n",
    "\n",
    "@validation\n",
    "def division(a,b):\n",
    "    return a/b\n",
    "\n",
    "division(a=10, b=0)"
   ]
  },
  {
   "cell_type": "code",
   "execution_count": null,
   "id": "7850ef32-11ee-4b1e-aeee-d7e63795576c",
   "metadata": {},
   "outputs": [],
   "source": []
  }
 ],
 "metadata": {
  "kernelspec": {
   "display_name": "Python 3 (ipykernel)",
   "language": "python",
   "name": "python3"
  },
  "language_info": {
   "codemirror_mode": {
    "name": "ipython",
    "version": 3
   },
   "file_extension": ".py",
   "mimetype": "text/x-python",
   "name": "python",
   "nbconvert_exporter": "python",
   "pygments_lexer": "ipython3",
   "version": "3.13.6"
  }
 },
 "nbformat": 4,
 "nbformat_minor": 5
}
