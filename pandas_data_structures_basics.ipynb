{
 "cells": [
  {
   "cell_type": "code",
   "execution_count": 1,
   "id": "fec59b36-91be-4115-a935-f7f38436f5de",
   "metadata": {},
   "outputs": [],
   "source": [
    "#Create pandas series\n",
    "# series is like a python list but will contain only items of similar data types\n",
    "\n",
    "import pandas as pd\n",
    "mylist = ['one', 'two', 'three', 4, 5]\n",
    "\n",
    "s = pd.Series()"
   ]
  },
  {
   "cell_type": "code",
   "execution_count": null,
   "id": "16d3d40c-8cb6-465a-b963-72c13ffb55cb",
   "metadata": {},
   "outputs": [],
   "source": []
  },
  {
   "cell_type": "code",
   "execution_count": null,
   "id": "80a2581b-43fd-4760-bf35-267ed250dad3",
   "metadata": {},
   "outputs": [],
   "source": []
  },
  {
   "cell_type": "code",
   "execution_count": null,
   "id": "1d43c78b-a532-497a-a16e-6220c47eb4b7",
   "metadata": {},
   "outputs": [],
   "source": []
  }
 ],
 "metadata": {
  "kernelspec": {
   "display_name": "Python 3 (ipykernel)",
   "language": "python",
   "name": "python3"
  },
  "language_info": {
   "codemirror_mode": {
    "name": "ipython",
    "version": 3
   },
   "file_extension": ".py",
   "mimetype": "text/x-python",
   "name": "python",
   "nbconvert_exporter": "python",
   "pygments_lexer": "ipython3",
   "version": "3.13.5"
  }
 },
 "nbformat": 4,
 "nbformat_minor": 5
}
